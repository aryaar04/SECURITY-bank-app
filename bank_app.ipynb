{
  "nbformat": 4,
  "nbformat_minor": 0,
  "metadata": {
    "colab": {
      "provenance": [],
      "authorship_tag": "ABX9TyMINPFdqTKhosRPlw8YrpA8",
      "include_colab_link": true
    },
    "kernelspec": {
      "name": "python3",
      "display_name": "Python 3"
    },
    "language_info": {
      "name": "python"
    }
  },
  "cells": [
    {
      "cell_type": "markdown",
      "metadata": {
        "id": "view-in-github",
        "colab_type": "text"
      },
      "source": [
        "<a href=\"https://colab.research.google.com/github/aryaar04/SECURITY-bank-app/blob/main/bank_app.ipynb\" target=\"_parent\"><img src=\"https://colab.research.google.com/assets/colab-badge.svg\" alt=\"Open In Colab\"/></a>"
      ]
    },
    {
      "cell_type": "markdown",
      "source": [
        "secure bank app backend using FastAPI, bcrypt, and JWT authentication, built with security best practices"
      ],
      "metadata": {
        "id": "b9ma6PsRxZOx"
      }
    },
    {
      "cell_type": "markdown",
      "source": [
        " Features with Security Covered:\n",
        "Password hashing with bcrypt (via passlib)\n",
        "\n",
        "JWT token-based login\n",
        "\n",
        "Input validation with pydantic\n",
        "\n",
        "Defense against rainbow tables (via salted hashing)\n",
        "\n",
        "No plain-text passwords\n",
        "\n",
        "Token expiration and scope\n",
        "\n",
        "HTTPS endpoint via ngrok (for secure API testing)"
      ],
      "metadata": {
        "id": "o7pCrf2bxjO-"
      }
    },
    {
      "cell_type": "code",
      "execution_count": 2,
      "metadata": {
        "colab": {
          "base_uri": "https://localhost:8080/"
        },
        "id": "FQ5U_2r2xYj7",
        "outputId": "73feabda-32bf-43c7-f185-71fba3e8a8dd"
      },
      "outputs": [
        {
          "output_type": "stream",
          "name": "stdout",
          "text": [
            "Requirement already satisfied: fastapi in /usr/local/lib/python3.11/dist-packages (0.115.12)\n",
            "Requirement already satisfied: uvicorn in /usr/local/lib/python3.11/dist-packages (0.34.2)\n",
            "Requirement already satisfied: nest-asyncio in /usr/local/lib/python3.11/dist-packages (1.6.0)\n",
            "Requirement already satisfied: pyngrok in /usr/local/lib/python3.11/dist-packages (7.2.5)\n",
            "Collecting email-validator\n",
            "  Downloading email_validator-2.2.0-py3-none-any.whl.metadata (25 kB)\n",
            "Requirement already satisfied: python-jose[cryptography] in /usr/local/lib/python3.11/dist-packages (3.4.0)\n",
            "Requirement already satisfied: passlib[bcrypt] in /usr/local/lib/python3.11/dist-packages (1.7.4)\n",
            "Requirement already satisfied: starlette<0.47.0,>=0.40.0 in /usr/local/lib/python3.11/dist-packages (from fastapi) (0.46.2)\n",
            "Requirement already satisfied: pydantic!=1.8,!=1.8.1,!=2.0.0,!=2.0.1,!=2.1.0,<3.0.0,>=1.7.4 in /usr/local/lib/python3.11/dist-packages (from fastapi) (2.11.3)\n",
            "Requirement already satisfied: typing-extensions>=4.8.0 in /usr/local/lib/python3.11/dist-packages (from fastapi) (4.13.2)\n",
            "Requirement already satisfied: click>=7.0 in /usr/local/lib/python3.11/dist-packages (from uvicorn) (8.1.8)\n",
            "Requirement already satisfied: h11>=0.8 in /usr/local/lib/python3.11/dist-packages (from uvicorn) (0.16.0)\n",
            "Requirement already satisfied: PyYAML>=5.1 in /usr/local/lib/python3.11/dist-packages (from pyngrok) (6.0.2)\n",
            "Requirement already satisfied: ecdsa!=0.15 in /usr/local/lib/python3.11/dist-packages (from python-jose[cryptography]) (0.19.1)\n",
            "Requirement already satisfied: rsa!=4.1.1,!=4.4,<5.0,>=4.0 in /usr/local/lib/python3.11/dist-packages (from python-jose[cryptography]) (4.9.1)\n",
            "Requirement already satisfied: pyasn1<0.5.0,>=0.4.1 in /usr/local/lib/python3.11/dist-packages (from python-jose[cryptography]) (0.4.8)\n",
            "Requirement already satisfied: cryptography>=3.4.0 in /usr/local/lib/python3.11/dist-packages (from python-jose[cryptography]) (43.0.3)\n",
            "Requirement already satisfied: bcrypt>=3.1.0 in /usr/local/lib/python3.11/dist-packages (from passlib[bcrypt]) (4.3.0)\n",
            "Collecting dnspython>=2.0.0 (from email-validator)\n",
            "  Downloading dnspython-2.7.0-py3-none-any.whl.metadata (5.8 kB)\n",
            "Requirement already satisfied: idna>=2.0.0 in /usr/local/lib/python3.11/dist-packages (from email-validator) (3.10)\n",
            "Requirement already satisfied: cffi>=1.12 in /usr/local/lib/python3.11/dist-packages (from cryptography>=3.4.0->python-jose[cryptography]) (1.17.1)\n",
            "Requirement already satisfied: six>=1.9.0 in /usr/local/lib/python3.11/dist-packages (from ecdsa!=0.15->python-jose[cryptography]) (1.17.0)\n",
            "Requirement already satisfied: annotated-types>=0.6.0 in /usr/local/lib/python3.11/dist-packages (from pydantic!=1.8,!=1.8.1,!=2.0.0,!=2.0.1,!=2.1.0,<3.0.0,>=1.7.4->fastapi) (0.7.0)\n",
            "Requirement already satisfied: pydantic-core==2.33.1 in /usr/local/lib/python3.11/dist-packages (from pydantic!=1.8,!=1.8.1,!=2.0.0,!=2.0.1,!=2.1.0,<3.0.0,>=1.7.4->fastapi) (2.33.1)\n",
            "Requirement already satisfied: typing-inspection>=0.4.0 in /usr/local/lib/python3.11/dist-packages (from pydantic!=1.8,!=1.8.1,!=2.0.0,!=2.0.1,!=2.1.0,<3.0.0,>=1.7.4->fastapi) (0.4.0)\n",
            "Requirement already satisfied: anyio<5,>=3.6.2 in /usr/local/lib/python3.11/dist-packages (from starlette<0.47.0,>=0.40.0->fastapi) (4.9.0)\n",
            "Requirement already satisfied: sniffio>=1.1 in /usr/local/lib/python3.11/dist-packages (from anyio<5,>=3.6.2->starlette<0.47.0,>=0.40.0->fastapi) (1.3.1)\n",
            "Requirement already satisfied: pycparser in /usr/local/lib/python3.11/dist-packages (from cffi>=1.12->cryptography>=3.4.0->python-jose[cryptography]) (2.22)\n",
            "Downloading email_validator-2.2.0-py3-none-any.whl (33 kB)\n",
            "Downloading dnspython-2.7.0-py3-none-any.whl (313 kB)\n",
            "\u001b[2K   \u001b[90m━━━━━━━━━━━━━━━━━━━━━━━━━━━━━━━━━━━━━━━━\u001b[0m \u001b[32m313.6/313.6 kB\u001b[0m \u001b[31m19.9 MB/s\u001b[0m eta \u001b[36m0:00:00\u001b[0m\n",
            "\u001b[?25hInstalling collected packages: dnspython, email-validator\n",
            "Successfully installed dnspython-2.7.0 email-validator-2.2.0\n"
          ]
        }
      ],
      "source": [
        "# 1. Install required packages, including the missing email-validator\n",
        "!pip install fastapi uvicorn nest-asyncio pyngrok python-jose[cryptography] passlib[bcrypt] email-validator"
      ]
    },
    {
      "cell_type": "code",
      "source": [
        "pip install python-multipart"
      ],
      "metadata": {
        "colab": {
          "base_uri": "https://localhost:8080/"
        },
        "id": "L03KLnZvz3cn",
        "outputId": "e5b9ed00-24d9-4772-d3a1-154a94d4ab46"
      },
      "execution_count": 5,
      "outputs": [
        {
          "output_type": "stream",
          "name": "stdout",
          "text": [
            "Collecting python-multipart\n",
            "  Downloading python_multipart-0.0.20-py3-none-any.whl.metadata (1.8 kB)\n",
            "Downloading python_multipart-0.0.20-py3-none-any.whl (24 kB)\n",
            "Installing collected packages: python-multipart\n",
            "Successfully installed python-multipart-0.0.20\n"
          ]
        }
      ]
    },
    {
      "cell_type": "code",
      "source": [
        "import nest_asyncio\n",
        "from fastapi import FastAPI, HTTPException, Depends, status\n",
        "from fastapi.security import OAuth2PasswordBearer, OAuth2PasswordRequestForm\n",
        "from pydantic import BaseModel, EmailStr\n",
        "from passlib.context import CryptContext\n",
        "from jose import JWTError, jwt\n",
        "from datetime import datetime, timedelta\n",
        "from typing import Optional\n",
        "from pyngrok import ngrok\n",
        "import uvicorn\n",
        "\n",
        "# Allow multiple async loops in Colab\n",
        "nest_asyncio.apply()\n",
        "\n",
        "app = FastAPI()\n",
        "\n",
        "# In-memory user store (not persistent)\n",
        "fake_users_db = {}\n",
        "\n",
        "# Security settings\n",
        "SECRET_KEY = \"a-very-strong-secret-key-for-jwt\"\n",
        "ALGORITHM = \"HS256\"\n",
        "ACCESS_TOKEN_EXPIRE_MINUTES = 30\n",
        "pwd_context = CryptContext(schemes=[\"bcrypt\"], deprecated=\"auto\")\n",
        "\n",
        "oauth2_scheme = OAuth2PasswordBearer(tokenUrl=\"token\")\n",
        "\n",
        "# Pydantic models\n",
        "class UserIn(BaseModel):\n",
        "    email: EmailStr\n",
        "    password: str\n",
        "\n",
        "class UserOut(BaseModel):\n",
        "    email: EmailStr\n",
        "    balance: float\n",
        "\n",
        "class Token(BaseModel):\n",
        "    access_token: str\n",
        "    token_type: str\n",
        "\n",
        "# Utility functions\n",
        "def get_password_hash(password):\n",
        "    return pwd_context.hash(password)\n",
        "\n",
        "def verify_password(plain_password, hashed_password):\n",
        "    return pwd_context.verify(plain_password, hashed_password)\n",
        "\n",
        "def create_access_token(data: dict, expires_delta: Optional[timedelta] = None):\n",
        "    to_encode = data.copy()\n",
        "    expire = datetime.utcnow() + (expires_delta or timedelta(minutes=15))\n",
        "    to_encode.update({\"exp\": expire})\n",
        "    return jwt.encode(to_encode, SECRET_KEY, algorithm=ALGORITHM)\n",
        "\n",
        "def get_current_user(token: str = Depends(oauth2_scheme)):\n",
        "    credentials_exception = HTTPException(\n",
        "        status_code=status.HTTP_401_UNAUTHORIZED,\n",
        "        detail=\"Could not validate credentials\",\n",
        "        headers={\"WWW-Authenticate\": \"Bearer\"},\n",
        "    )\n",
        "    try:\n",
        "        payload = jwt.decode(token, SECRET_KEY, algorithms=[ALGORITHM])\n",
        "        email: str = payload.get(\"sub\")\n",
        "        if email is None or email not in fake_users_db:\n",
        "            raise credentials_exception\n",
        "        return fake_users_db[email]\n",
        "    except JWTError:\n",
        "        raise credentials_exception\n",
        "\n",
        "# API endpoints\n",
        "@app.post(\"/register\", response_model=UserOut)\n",
        "def register(user: UserIn):\n",
        "    if user.email in fake_users_db:\n",
        "        raise HTTPException(status_code=400, detail=\"Email already registered\")\n",
        "    hashed_pw = get_password_hash(user.password)\n",
        "    fake_users_db[user.email] = {\n",
        "        \"email\": user.email,\n",
        "        \"hashed_password\": hashed_pw,\n",
        "        \"balance\": 0.0\n",
        "    }\n",
        "    return UserOut(email=user.email, balance=0.0)\n",
        "\n",
        "@app.post(\"/token\", response_model=Token)\n",
        "def login(form_data: OAuth2PasswordRequestForm = Depends()):\n",
        "    user = fake_users_db.get(form_data.username)\n",
        "    if not user or not verify_password(form_data.password, user[\"hashed_password\"]):\n",
        "        raise HTTPException(status_code=401, detail=\"Invalid credentials\")\n",
        "    token = create_access_token(data={\"sub\": user[\"email\"]}, expires_delta=timedelta(minutes=30))\n",
        "    return {\"access_token\": token, \"token_type\": \"bearer\"}\n",
        "\n",
        "@app.get(\"/account\", response_model=UserOut)\n",
        "def read_account(current_user: dict = Depends(get_current_user)):\n",
        "    return UserOut(email=current_user[\"email\"], balance=current_user[\"balance\"])\n",
        "\n",
        "@app.post(\"/deposit\")\n",
        "def deposit(amount: float, current_user: dict = Depends(get_current_user)):\n",
        "    if amount <= 0:\n",
        "        raise HTTPException(status_code=400, detail=\"Amount must be positive.\")\n",
        "    current_user[\"balance\"] += amount\n",
        "    return {\"message\": \"Deposit successful\", \"balance\": current_user[\"balance\"]}\n"
      ],
      "metadata": {
        "id": "TiiXH2PXySST"
      },
      "execution_count": 6,
      "outputs": []
    },
    {
      "cell_type": "code",
      "source": [
        "# 1. Install dependencies (run this only once)\n",
        "!pip install fastapi uvicorn nest_asyncio pyngrok passlib[bcrypt] python-jose\n",
        "\n",
        "# 2. Minimal app setup\n",
        "import nest_asyncio\n",
        "import uvicorn\n",
        "from fastapi import FastAPI\n",
        "from pyngrok import ngrok, conf\n",
        "from threading import Thread\n",
        "import time\n",
        "\n",
        "# 3. Allow nested loops in Jupyter\n",
        "nest_asyncio.apply()\n",
        "\n",
        "# 4. Create FastAPI app\n",
        "app = FastAPI()\n",
        "\n",
        "@app.get(\"/\")\n",
        "def read_root():\n",
        "    return {\"message\": \"🎉 FastAPI is running with ngrok!\"}\n",
        "\n",
        "# 5. Start server + expose via ngrok\n",
        "def start():\n",
        "    # Close previous tunnels\n",
        "    ngrok.kill()\n",
        "\n",
        "    # Replace with your actual token\n",
        "    conf.get_default().auth_token = \"2wPEN6vzJ5FYBGfqoN4vdAGn35t_6q3wYt5UpdBix74euAvZr\"\n",
        "\n",
        "    tunnel = ngrok.connect(8000)\n",
        "    public_url = tunnel.public_url\n",
        "    print(\"✅ Public URL:\", public_url + \"/docs\")\n",
        "\n",
        "    uvicorn.run(app, host=\"0.0.0.0\", port=8000)\n",
        "\n",
        "# 6. Start in a new thread\n",
        "Thread(target=start).start()\n",
        "time.sleep(5)  # Wait to ensure ngrok is ready\n"
      ],
      "metadata": {
        "colab": {
          "base_uri": "https://localhost:8080/"
        },
        "id": "M0DXpwgeyWmt",
        "outputId": "94cb5ac5-13bd-4152-8cb2-e9e273ed3fc7"
      },
      "execution_count": 24,
      "outputs": [
        {
          "output_type": "stream",
          "name": "stdout",
          "text": [
            "Requirement already satisfied: fastapi in /usr/local/lib/python3.11/dist-packages (0.115.12)\n",
            "Requirement already satisfied: uvicorn in /usr/local/lib/python3.11/dist-packages (0.34.2)\n",
            "Requirement already satisfied: nest_asyncio in /usr/local/lib/python3.11/dist-packages (1.6.0)\n",
            "Requirement already satisfied: pyngrok in /usr/local/lib/python3.11/dist-packages (7.2.5)\n",
            "Requirement already satisfied: python-jose in /usr/local/lib/python3.11/dist-packages (3.4.0)\n",
            "Requirement already satisfied: passlib[bcrypt] in /usr/local/lib/python3.11/dist-packages (1.7.4)\n",
            "Requirement already satisfied: starlette<0.47.0,>=0.40.0 in /usr/local/lib/python3.11/dist-packages (from fastapi) (0.46.2)\n",
            "Requirement already satisfied: pydantic!=1.8,!=1.8.1,!=2.0.0,!=2.0.1,!=2.1.0,<3.0.0,>=1.7.4 in /usr/local/lib/python3.11/dist-packages (from fastapi) (2.11.3)\n",
            "Requirement already satisfied: typing-extensions>=4.8.0 in /usr/local/lib/python3.11/dist-packages (from fastapi) (4.13.2)\n",
            "Requirement already satisfied: click>=7.0 in /usr/local/lib/python3.11/dist-packages (from uvicorn) (8.1.8)\n",
            "Requirement already satisfied: h11>=0.8 in /usr/local/lib/python3.11/dist-packages (from uvicorn) (0.16.0)\n",
            "Requirement already satisfied: PyYAML>=5.1 in /usr/local/lib/python3.11/dist-packages (from pyngrok) (6.0.2)\n",
            "Requirement already satisfied: bcrypt>=3.1.0 in /usr/local/lib/python3.11/dist-packages (from passlib[bcrypt]) (4.3.0)\n",
            "Requirement already satisfied: ecdsa!=0.15 in /usr/local/lib/python3.11/dist-packages (from python-jose) (0.19.1)\n",
            "Requirement already satisfied: rsa!=4.1.1,!=4.4,<5.0,>=4.0 in /usr/local/lib/python3.11/dist-packages (from python-jose) (4.9.1)\n",
            "Requirement already satisfied: pyasn1<0.5.0,>=0.4.1 in /usr/local/lib/python3.11/dist-packages (from python-jose) (0.4.8)\n",
            "Requirement already satisfied: six>=1.9.0 in /usr/local/lib/python3.11/dist-packages (from ecdsa!=0.15->python-jose) (1.17.0)\n",
            "Requirement already satisfied: annotated-types>=0.6.0 in /usr/local/lib/python3.11/dist-packages (from pydantic!=1.8,!=1.8.1,!=2.0.0,!=2.0.1,!=2.1.0,<3.0.0,>=1.7.4->fastapi) (0.7.0)\n",
            "Requirement already satisfied: pydantic-core==2.33.1 in /usr/local/lib/python3.11/dist-packages (from pydantic!=1.8,!=1.8.1,!=2.0.0,!=2.0.1,!=2.1.0,<3.0.0,>=1.7.4->fastapi) (2.33.1)\n",
            "Requirement already satisfied: typing-inspection>=0.4.0 in /usr/local/lib/python3.11/dist-packages (from pydantic!=1.8,!=1.8.1,!=2.0.0,!=2.0.1,!=2.1.0,<3.0.0,>=1.7.4->fastapi) (0.4.0)\n",
            "Requirement already satisfied: anyio<5,>=3.6.2 in /usr/local/lib/python3.11/dist-packages (from starlette<0.47.0,>=0.40.0->fastapi) (4.9.0)\n",
            "Requirement already satisfied: idna>=2.8 in /usr/local/lib/python3.11/dist-packages (from anyio<5,>=3.6.2->starlette<0.47.0,>=0.40.0->fastapi) (3.10)\n",
            "Requirement already satisfied: sniffio>=1.1 in /usr/local/lib/python3.11/dist-packages (from anyio<5,>=3.6.2->starlette<0.47.0,>=0.40.0->fastapi) (1.3.1)\n",
            "✅ Public URL: https://3cae-35-188-235-137.ngrok-free.app/docs\n"
          ]
        },
        {
          "output_type": "stream",
          "name": "stderr",
          "text": [
            "INFO:     Started server process [740]\n",
            "INFO:     Waiting for application startup.\n",
            "INFO:     Application startup complete.\n",
            "ERROR:    [Errno 98] error while attempting to bind on address ('0.0.0.0', 8000): address already in use\n",
            "INFO:     Waiting for application shutdown.\n",
            "INFO:     Application shutdown complete.\n"
          ]
        }
      ]
    }
  ]
}